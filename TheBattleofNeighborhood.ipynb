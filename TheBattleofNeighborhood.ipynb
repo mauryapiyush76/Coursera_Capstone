{
 "cells": [
  {
   "cell_type": "markdown",
   "metadata": {},
   "source": [
    "<h1>The Battle of Neighborhood</h1>"
   ]
  },
  {
   "cell_type": "markdown",
   "metadata": {},
   "source": [
    "<h2>Business Problem</h2>"
   ]
  },
  {
   "cell_type": "markdown",
   "metadata": {},
   "source": [
    "George is a chef from England and he wants to expand his restaurant chain which he started with  his friends three years ago. He always wanted to do business in the land of opportunities North America, so he finally comes down to two cities New York and Toronto as he has some contacts in both the places. He gets started with his research for comparing how similiar or dissimiliar are both the cities. This would help him in taking informed decision and help him in expanding his business effectively."
   ]
  },
  {
   "cell_type": "markdown",
   "metadata": {},
   "source": [
    "<h1>Data</h1>"
   ]
  },
  {
   "cell_type": "markdown",
   "metadata": {},
   "source": [
    "Firstly, he needs to fetch and explore neighborhoods data of those two cities from Foursquare API. The information he wants to focus on are restaurants, coffee shops and entertainment venues. We will choose one neighborhood from each city: Manhattan for New York and Downtown for Toronto. We need to apply Neighborhood Segmentation and Clustering to analyzing the neighborhood data and prioritize the best restaurant location in both cities based on foot traffic and type of restaurants. Lastly, we can decide which city is the better place for George to get start."
   ]
  }
 ],
 "metadata": {
  "kernelspec": {
   "display_name": "Python 3",
   "language": "python",
   "name": "python3"
  },
  "language_info": {
   "codemirror_mode": {
    "name": "ipython",
    "version": 3
   },
   "file_extension": ".py",
   "mimetype": "text/x-python",
   "name": "python",
   "nbconvert_exporter": "python",
   "pygments_lexer": "ipython3",
   "version": "3.7.0"
  }
 },
 "nbformat": 4,
 "nbformat_minor": 2
}
